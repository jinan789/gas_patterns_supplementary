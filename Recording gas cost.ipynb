{
 "cells": [
  {
   "cell_type": "markdown",
   "id": "4d13197f",
   "metadata": {},
   "source": [
    "Our gas cost is measured using the Remix online compiler (https://remix.ethereum.org/). To replicate our measurements on gas costs, take the following steps:\n",
    "\n",
    "1. copy our example contracts from data_replication_package/demo_codes/* into Remix. The list of sample codes with suffix \"u\" means it is the unoptimized version, and with \"o\" means it is the optimized one.\n",
    "\n",
    "2. compile a selected contract\n",
    "\n",
    "3. deploy the contract. record the gas cost of the execution from the transaction record provided by Remix\n",
    "\n",
    "4. send a test transaction to the contract. record the gas cost of the execution from the transaction record provided by Remix"
   ]
  },
  {
   "cell_type": "code",
   "execution_count": null,
   "id": "e728511a",
   "metadata": {},
   "outputs": [],
   "source": []
  },
  {
   "cell_type": "code",
   "execution_count": null,
   "id": "6262f270",
   "metadata": {},
   "outputs": [],
   "source": []
  },
  {
   "cell_type": "code",
   "execution_count": null,
   "id": "6c96c01d",
   "metadata": {},
   "outputs": [],
   "source": []
  },
  {
   "cell_type": "code",
   "execution_count": null,
   "id": "01455394",
   "metadata": {},
   "outputs": [],
   "source": []
  },
  {
   "cell_type": "code",
   "execution_count": null,
   "id": "edcd5d6f",
   "metadata": {},
   "outputs": [],
   "source": []
  }
 ],
 "metadata": {
  "kernelspec": {
   "display_name": "Python 3 (ipykernel)",
   "language": "python",
   "name": "python3"
  },
  "language_info": {
   "codemirror_mode": {
    "name": "ipython",
    "version": 3
   },
   "file_extension": ".py",
   "mimetype": "text/x-python",
   "name": "python",
   "nbconvert_exporter": "python",
   "pygments_lexer": "ipython3",
   "version": "3.9.12"
  }
 },
 "nbformat": 4,
 "nbformat_minor": 5
}
