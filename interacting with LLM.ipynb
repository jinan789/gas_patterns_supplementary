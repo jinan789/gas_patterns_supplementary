{
 "cells": [
  {
   "cell_type": "markdown",
   "id": "32b17120",
   "metadata": {},
   "source": [
    "In order to interact with an LLM, we use the POE platform (https://poe.com/), which provides access to numerous LLM models within one membership subscription. We conducted our experiments directly on the POE website, but this process can be easily automated in Python. We show example codes below.\n",
    "\n",
    "\n",
    "Note that the API key can be obtained from: https://poe.com/api_key\n",
    "\n",
    "\n"
   ]
  },
  {
   "cell_type": "code",
   "execution_count": null,
   "id": "fa9407e6",
   "metadata": {},
   "outputs": [],
   "source": []
  },
  {
   "cell_type": "markdown",
   "id": "e85df51a",
   "metadata": {},
   "source": [
    "Below is an example from https://creator.poe.com/docs/accessing-other-bots-on-poe#how-to-access-the-bot-query-api-directly on how to run an automated call to POE in order to get a response."
   ]
  },
  {
   "cell_type": "code",
   "execution_count": null,
   "id": "b0e43228",
   "metadata": {},
   "outputs": [],
   "source": [
    "import asyncio\n",
    "import fastapi_poe as fp\n",
    "\n",
    "# Create an asynchronous function to encapsulate the async for loop\n",
    "async def get_responses(api_key, messages):\n",
    "    async for partial in fp.get_bot_response(messages=messages, bot_name=\"GPT-3.5-Turbo\", api_key=api_key):\n",
    "        print(partial)\n",
    " \n",
    "# Replace <api_key> with your actual API key, ensuring it is a string.\n",
    "api_key = <api_key>\n",
    "message = fp.ProtocolMessage(role=\"user\", content=\"Hello world\")\n",
    "\n",
    "# Run the event loop\n",
    "# For Python 3.7 and newer\n",
    "asyncio.run(get_responses(api_key, [message]))\n",
    "\n",
    "# For Python 3.6 and older, you would typically do the following:\n",
    "# loop = asyncio.get_event_loop()\n",
    "# loop.run_until_complete(get_responses(api_key))\n",
    "# loop.close()"
   ]
  },
  {
   "cell_type": "code",
   "execution_count": null,
   "id": "74bbe9a7",
   "metadata": {},
   "outputs": [],
   "source": []
  }
 ],
 "metadata": {
  "kernelspec": {
   "display_name": "Python 3 (ipykernel)",
   "language": "python",
   "name": "python3"
  },
  "language_info": {
   "codemirror_mode": {
    "name": "ipython",
    "version": 3
   },
   "file_extension": ".py",
   "mimetype": "text/x-python",
   "name": "python",
   "nbconvert_exporter": "python",
   "pygments_lexer": "ipython3",
   "version": "3.9.12"
  }
 },
 "nbformat": 4,
 "nbformat_minor": 5
}
