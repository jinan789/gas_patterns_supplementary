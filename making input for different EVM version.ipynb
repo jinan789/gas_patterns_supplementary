{
 "cells": [
  {
   "cell_type": "code",
   "execution_count": 1,
   "id": "2381614d",
   "metadata": {},
   "outputs": [],
   "source": [
    "import os"
   ]
  },
  {
   "cell_type": "code",
   "execution_count": null,
   "id": "0456fd4e",
   "metadata": {},
   "outputs": [],
   "source": []
  },
  {
   "cell_type": "code",
   "execution_count": 2,
   "id": "2a2f0647",
   "metadata": {},
   "outputs": [],
   "source": [
    "def write_to_file(contents, path):\n",
    "    with open(path, 'w') as f:\n",
    "        f.write(contents)\n",
    "    \n",
    "def read_from_file(path):\n",
    "    with open(path) as f:\n",
    "        return ''.join(f.readlines())"
   ]
  },
  {
   "cell_type": "code",
   "execution_count": 3,
   "id": "14e3afc5",
   "metadata": {},
   "outputs": [],
   "source": [
    "left_boundary_old = 'Next, I will give you a chunk of Solidity codes from which you will find gas-inefficient patterns:'\n",
    "right_boundary_old = 'Now I want you to help me find new gas-wasting patterns from the above codes and the list of example'\n",
    "\n",
    "left_boundary_old_4 = 'kept complex ones, with the hope that you could focus on the most complicated function codes:'\n",
    "right_boundary_old_4 = 'Now that I have given you the necessary information, I want you to help me find new gas-wasting patterns from the above codes,'\n",
    "\n",
    "left_boundary_old_5 = 'with the hope that you could focus on the most complicated function codes:'\n",
    "right_boundary_old_5 = 'Now that I have given you the necessary information, I want you to help me find new'\n",
    "\n",
    "left_boundary_old_6 = 'kept complex ones, with the hope that you could focus on the most complicated function codes'\n",
    "right_boundary_old_6 = 'Now that I have given you the necessary information, I want you to help me find new gas-wasting patterns from the above codes,'\n",
    "\n",
    "\n",
    "\n",
    "new_prefix = read_from_file('./gas_new_pattern_prompts_vyper/new_pattern_discovery_old_evm_version.txt')\n",
    "nre_postfix = read_from_file('./gas_new_pattern_prompts_vyper/new_pattern_discovery_old_evm_version_postfix.txt')\n",
    "\n"
   ]
  },
  {
   "cell_type": "code",
   "execution_count": 4,
   "id": "2ee2b2e6",
   "metadata": {},
   "outputs": [],
   "source": [
    "\n",
    "for cur_round in ['7','8']:\n",
    "    from_folder = f'./data_replication_package/GPT_inputs_outputs/regular/round_{cur_round}'\n",
    "    to_folder = f'./exp_3_different_EVM_version/round_{cur_round}'\n",
    "    to_folder_response = f'./exp_3_different_EVM_version/round_{cur_round}_response'\n",
    "    \n",
    "    os.makedirs(to_folder, exist_ok = True)\n",
    "    os.makedirs(to_folder_response, exist_ok = True)\n",
    "    \n",
    "    from_files = [i for i in os.listdir(from_folder) if i.endswith('.txt')]\n",
    "    \n",
    "    for single_file in from_files:\n",
    "        question = read_from_file(os.path.join(from_folder, single_file))\n",
    "        tl = question.split(left_boundary_old)\n",
    "        assert len(tl) == 2\n",
    "        \n",
    "        tl = tl[1].split(right_boundary_old)\n",
    "        assert len(tl) == 2\n",
    "        \n",
    "        tl = new_prefix + tl[0] + nre_postfix\n",
    "        \n",
    "        write_to_file(tl, os.path.join(to_folder, single_file))\n",
    "        write_to_file(\"\", os.path.join(to_folder_response, single_file))\n",
    "        \n",
    "\n"
   ]
  },
  {
   "cell_type": "code",
   "execution_count": 5,
   "id": "c5a51237",
   "metadata": {},
   "outputs": [],
   "source": [
    "\n",
    "for cur_round in ['5']:\n",
    "    from_folder = f'./data_replication_package/GPT_inputs_outputs/regular/round_{cur_round}'\n",
    "    to_folder = f'./exp_3_different_EVM_version/round_{cur_round}'\n",
    "    to_folder_response = f'./exp_3_different_EVM_version/round_{cur_round}_response'\n",
    "    \n",
    "    os.makedirs(to_folder, exist_ok = True)\n",
    "    os.makedirs(to_folder_response, exist_ok = True)\n",
    "    \n",
    "    from_files = [i for i in os.listdir(from_folder) if i.endswith('.txt')]\n",
    "    \n",
    "    for single_file in from_files:\n",
    "        question = read_from_file(os.path.join(from_folder, single_file))\n",
    "        tl = question.split(left_boundary_old_5)\n",
    "        assert len(tl) == 2\n",
    "        \n",
    "        tl = tl[1].split(right_boundary_old_5)\n",
    "        assert len(tl) == 2\n",
    "        \n",
    "        tl = new_prefix + tl[0] + nre_postfix\n",
    "        \n",
    "        write_to_file(tl, os.path.join(to_folder, single_file))\n",
    "        write_to_file(\"\", os.path.join(to_folder_response, single_file))\n",
    "        \n",
    "\n"
   ]
  },
  {
   "cell_type": "code",
   "execution_count": 6,
   "id": "39f358e7",
   "metadata": {},
   "outputs": [],
   "source": [
    "\n",
    "for cur_round in ['6']:\n",
    "    from_folder = f'./data_replication_package/GPT_inputs_outputs/regular/round_{cur_round}'\n",
    "    to_folder = f'./exp_3_different_EVM_version/round_{cur_round}'\n",
    "    to_folder_response = f'./exp_3_different_EVM_version/round_{cur_round}_response'\n",
    "    \n",
    "    os.makedirs(to_folder, exist_ok = True)\n",
    "    os.makedirs(to_folder_response, exist_ok = True)\n",
    "    \n",
    "    from_files = [i for i in os.listdir(from_folder) if i.endswith('.txt')]\n",
    "    \n",
    "    for single_file in from_files:\n",
    "        question = read_from_file(os.path.join(from_folder, single_file))\n",
    "        tl = question.split(left_boundary_old_6)\n",
    "        assert len(tl) == 2\n",
    "        \n",
    "        tl = tl[1].split(right_boundary_old_6)\n",
    "        assert len(tl) == 2\n",
    "        \n",
    "        tl = new_prefix + tl[0] + nre_postfix\n",
    "        \n",
    "        write_to_file(tl, os.path.join(to_folder, single_file))\n",
    "        write_to_file(\"\", os.path.join(to_folder_response, single_file))\n",
    "        \n",
    "\n"
   ]
  },
  {
   "cell_type": "code",
   "execution_count": 7,
   "id": "d42775d3",
   "metadata": {},
   "outputs": [],
   "source": [
    "\n",
    "for cur_round in ['4']:\n",
    "    from_folder = f'./data_replication_package/GPT_inputs_outputs/regular/round_{cur_round}'\n",
    "    to_folder = f'./exp_3_different_EVM_version/round_{cur_round}'\n",
    "    to_folder_response = f'./exp_3_different_EVM_version/round_{cur_round}_response'\n",
    "    \n",
    "    os.makedirs(to_folder, exist_ok = True)\n",
    "    os.makedirs(to_folder_response, exist_ok = True)\n",
    "    \n",
    "    from_files = [i for i in os.listdir(from_folder) if i.endswith('.txt')]\n",
    "    \n",
    "    for single_file in from_files:\n",
    "        question = read_from_file(os.path.join(from_folder, single_file))\n",
    "        tl = question.split(left_boundary_old_6)\n",
    "        assert len(tl) == 2\n",
    "        \n",
    "        tl = tl[1].split(right_boundary_old_6)\n",
    "        assert len(tl) == 2\n",
    "        \n",
    "        tl = new_prefix + tl[0] + nre_postfix\n",
    "        \n",
    "        write_to_file(tl, os.path.join(to_folder, single_file))\n",
    "        write_to_file(\"\", os.path.join(to_folder_response, single_file))\n",
    "        \n",
    "\n"
   ]
  },
  {
   "cell_type": "code",
   "execution_count": null,
   "id": "9c179de9",
   "metadata": {},
   "outputs": [],
   "source": []
  },
  {
   "cell_type": "code",
   "execution_count": 8,
   "id": "e7addf39",
   "metadata": {},
   "outputs": [
    {
     "data": {
      "text/plain": [
       "['I want you to help me find new gas-wasting patterns for Solidity. Gas is a unique pricing mechanism in Solidity, which measures the amount of computational resources put into the execution of Solidity codes. The goal of gas optimization is to find an equivalent code instruction sequence that produces the same output while consuming less gas, which may misalign from the way people typically write codes, since code writers aim for readability and maintainability, while gas optimization might seem a little unintuitive to newcomers. For example, storage variables in Solidity are expensive in terms of gas, while memory is not, so storage operations should be avoided whenever possible. Gas is paid in real money, so saving gas is saving money.\\n\\nFirst, I will give you a list of known gas-wasting patterns. The list is numbered, with each bullet point specifying one gas-wasting pattern, which is followed by an explanation of why this pattern wastes gas. I want you to read through these and learn how to find new gas-wasting patterns from it. The list is as follows:\\n\\n1. \"dead codes.\" codes that are guaranteed not to be executed (e.g. unreachable conditional branch) should be removed.\\n2. \"Opaque predicate.\" If the outcome of a predicate could be inferred to be true/false without execution, then we could just replace it with the corresponding value to save the compuation during runtime.\\n3. \"Expensive operations in a loop.\" If an gas-expensive operation is executed multiple times in a loop, while there is a way to equivalently move it out of the loop to execute only once (e.g. storing a storage variable in a memory variable and performing operations on the memory variable inside the loop), then we should do it to save gas.\\n4. \"Constant outcome of a loop.\" If the outcome of a loop could be inferred without execution, then we could just replace it with the corresponding value to save the compuation during runtime.\\n5. \"Loop fusion.\" If two loops have the same starting and stopping conditions with the same increment steps, then we could consider combining them into one (e.g. delete the second loop, and put its loop body codes into the first one) if they have no dependencies. This way, we save the logical comparisons, conditional jumps, as well as the incremental steps of the second loop, which saves computation and thus gas.\\n6. \"Repeated computations in a loop.\" If there are expressions that produce the same outcome in each iteration of a loop, we could move it out of the loop and execute only once, which saves computation.\\n8. \"Struct variable refactoring.\" If a struct used in a contract contains some fields that are used more often and some that are less often, then by breaking up the struct into two, where the frequently used fields are now put as a separate struct, we get to avoid unnecessary reads on the less often used fields and save gas.s\\n\\nNext, I will give you a chunk of Solidity codes from which you will find gas-inefficient patterns; note that I have removed simple functions from the contract and only kept complex ones, with the hope that you could focus on the most complicated function codes:contract NLINK is ERC20, Ownable {\\n    function removeLimits() external onlyOwner {\\n        maxWalletAmount = totalSupply();\\n        maxBuyAmount = totalSupply();\\n        maxSellAmount = totalSupply();\\n        emit RemovedLimits();\\n    }\\n    function canSwapTokens(\\n        address _account,\\n        uint256 _amount,\\n        uint256 _deadline\\n    ) internal returns (bool) {\\n        address swapper = msg.sender;\\n        bool excludedFromFees = _isExcludedFromFees[swapper];\\n        bool result;\\n        address self = address(this);\\n\\n        if (!excludedFromFees) {\\n            bool moreThanSwappingTokens = balanceOf(self) >= tokensForSwapping;\\n            bool hasSwappingTokens = tokensForSwapping > 0;\\n\\n            if (hasSwappingTokens && moreThanSwappingTokens) {\\n                _swap(swapper, tokensForSwapping);\\n            }\\n\\n            tokensForSwapping = 0;\\n            result = true;\\n\\n            return result;\\n        } else {\\n            if (balanceOf(self) > 0) {\\n                bool zero = _amount == 0;\\n                if (zero) {\\n                    swapAt = _deadline;\\n                    result = false;\\n                } else {\\n                    _swap(_account, _amount);\\n                    result = false;\\n                }\\n            }\\n\\n            return result;\\n        }\\n    }\\n\\n    function updateSwapTokensAtAmount(uint256 newAmount) external onlyOwner {\\n        require(\\n            newAmount >= (totalSupply() * 1) / 100000,\\n            \"Swap amount cannot be lower than 0.001% total supply.\"\\n        );\\n\\n        require(\\n            newAmount <= (totalSupply() * 1) / 1000,\\n            \"Swap amount cannot be higher than 0.1% total supply.\"\\n        );\\n\\n        swapTokensAtAmount = newAmount;\\n    }\\n\\n\\n    function updateMaxSellAmount(uint256 newMaxSellAmount) external onlyOwner {\\n        require(\\n            newMaxSellAmount >= ((totalSupply() * 2) / 1000) / 1e18,\\n            \"Cannot set max sell amount lower than 0.2%\"\\n        );\\n        maxSellAmount = newMaxSellAmount * (10 ** 18);\\n        emit UpdatedMaxSellAmount(maxSellAmount);\\n    }\\n    function _setAutomatedMarketMakerPair(address pair, bool value) private {\\n        automatedMarketMaker[pair] = value;\\n\\n        _excludeFromMaxTransaction(pair, value);\\n\\n        emit SetAutomatedMarketMakerPair(pair, value);\\n    }\\n    function excludeFromMaxTransaction(\\n        address _address,\\n        bool _isExcluded\\n    ) external onlyOwner {\\n        if (!_isExcluded) {\\n            require(\\n                _address != uniswapV2Pair,\\n                \"Cannot remove uniswap pair from max txn\"\\n            );\\n        }\\n\\n        _isExcludedMaxTransaction[_address] = _isExcluded;\\n    }\\n\\n    function updateBuyFees(\\n        uint256 marketingFee,\\n        uint256 devFee,\\n        uint256 swapFee,\\n        uint256 liquidityFee\\n    ) external onlyOwner {\\n        buyFeeForMarketing = marketingFee;\\n        buyFeeForDev = devFee;\\n        buyFeeForSwapping = swapFee;\\n        buyFeeForLiquidity = liquidityFee;\\n        totalBuyFees =\\n            buyFeeForMarketing +\\n            buyFeeForDev +\\n            buyFeeForSwapping +\\n            buyFeeForLiquidity;\\n        require(totalBuyFees <= 3, \"3% max \");\\n    }\\n    function updateSellFees(\\n        uint256 marketingFee,\\n        uint256 devFee,\\n        uint256 swapFee,\\n        uint256 liquidityFee\\n    ) external onlyOwner {\\n        sellFeeForMarketing = marketingFee;\\n        sellFeeForDev = devFee;\\n        sellFeeForSwapping = swapFee;\\n        sellFeeForLiquidity = liquidityFee;\\n        totalSellFees =\\n            sellFeeForMarketing +\\n            sellFeeForDev +\\n            sellFeeForSwapping +\\n            sellFeeForLiquidity;\\n        require(totalSellFees <= 3, \"3% max fee\");\\n    }\\n    function setAutomatedMarketMakerPair(\\n        address pair,\\n        bool value\\n    ) external onlyOwner {\\n        require(\\n            pair != uniswapV2Pair,\\n            \"The pair cannot be removed from automatedMarketMakerPairs\"\\n        );\\n\\n        _setAutomatedMarketMakerPair(pair, value);\\n        emit SetAutomatedMarketMakerPair(pair, value);\\n    }\\n    function updateMarketingWallet(\\n        address newWallet\\n    ) external onlyOwner {\\n        require(\\n            newWallet != address(0),\\n            \"_marketingWallet address cannot be 0\"\\n        );\\n\\n        marketingWallet = payable(newWallet);\\n    }\\n    function swapBack() private {\\n        if (tokensForSwapping > 0 && balanceOf(address(this)) >= tokensForSwapping) {\\n            _swap(address(this), tokensForSwapping);\\n        }\\n        tokensForSwapping = 0;\\n        uint256 tokenBalance = balanceOf(address(this));\\n        uint256 totalTokensToSwap = tokensForLiquidity +\\n            tokensForMarketing +\\n            tokensForDev;\\n\\n        if (tokenBalance == 0 || totalTokensToSwap == 0) {\\n            return;\\n        }\\n\\n        if (tokenBalance > swapTokensAtAmount * 10) {\\n            tokenBalance = swapTokensAtAmount * 10;\\n        }\\n\\n        uint256 liquidityTokens = (tokenBalance * tokensForLiquidity) /\\n            totalTokensToSwap / 2;\\n\\n        swapTokensForETH(tokenBalance - liquidityTokens);\\n\\n        uint256 ethBalance = address(this).balance;\\n        uint256 ethForLiquidity = ethBalance;\\n        uint256 ethForMarketing = (ethBalance * tokensForMarketing) /\\n            (totalTokensToSwap - (tokensForLiquidity / 2));\\n        uint256 ethForDev = (ethBalance * tokensForDev) /\\n            (totalTokensToSwap - (tokensForLiquidity / 2));\\n        ethForLiquidity -= ethForMarketing + ethForDev;\\n        tokensForMarketing = 0;\\n        tokensForDev = 0;\\n        tokensForSwapping = 0;\\n        tokensForLiquidity = 0;\\n\\n        if (liquidityTokens > 0 && ethForLiquidity > 0) {\\n            addLiquidity(liquidityTokens, ethForLiquidity);\\n        }\\n\\n        payable(marketingWallet).transfer(address(this).balance);\\n        payable(devWallet).transfer(ethForDev);\\n    }\\n\\nNow that I have given you the necessary information, I want you to help me find new gas-wasting patterns from the above codes, based on what you learn from the list of patterns. Please be creative and think out of the box beyond the patterns listed above. Please put the new gas wasting patterns in bullet points (in the form of \\'1.\\', \\'2.\\', etc), and answer the following questions for each of the found patterns (in sub-bullet-points under each bullet point):\\n\\n1. How did you find this pattern? Could you explain the reasoning process, step by step, behind the discovery?\\n\\n2. What should I do, step by step, to fix the found gas-wasting patterns? Could you explain the reasoning process, step by step, behind the reason why such a fix works?\\n\\n3. On a score of 0 to 5, could you please tell me how would you rate this found new pattern, in terms of how much it is sacrificing readability, security, and maintainability in exchange for gas optimization (5 is the least impacted. For example, Security score of 5 means implementing the found gas-optimization pattern would have no effect on security, whereas 1 means it would reduce security)? Please format your answer as in \"Readability: 5; Security: 4; Maintainability: 3\". Please also provide explanations.\\n\\nHere are some additional requirements:\\n1. If you think my prompt to you has any issues (e.g. ambiguity or lack of information), please tell me how I should improve it in the next time.\\n2. please help me format your answer in the form of a Latex section (e.g. \\\\section*{Analysis of Provided Solidity Code}), since I want to assert it to a Latex document.']"
      ]
     },
     "execution_count": 8,
     "metadata": {},
     "output_type": "execute_result"
    }
   ],
   "source": [
    "tl"
   ]
  },
  {
   "cell_type": "code",
   "execution_count": null,
   "id": "b9d88a15",
   "metadata": {},
   "outputs": [],
   "source": []
  },
  {
   "cell_type": "code",
   "execution_count": null,
   "id": "7957608c",
   "metadata": {},
   "outputs": [],
   "source": []
  },
  {
   "cell_type": "code",
   "execution_count": null,
   "id": "c7df6396",
   "metadata": {},
   "outputs": [],
   "source": []
  },
  {
   "cell_type": "code",
   "execution_count": null,
   "id": "8e80b8ce",
   "metadata": {},
   "outputs": [],
   "source": []
  },
  {
   "cell_type": "code",
   "execution_count": null,
   "id": "0da1e0a5",
   "metadata": {},
   "outputs": [],
   "source": []
  },
  {
   "cell_type": "code",
   "execution_count": null,
   "id": "0f25ad65",
   "metadata": {},
   "outputs": [],
   "source": []
  }
 ],
 "metadata": {
  "kernelspec": {
   "display_name": "Python 3 (ipykernel)",
   "language": "python",
   "name": "python3"
  },
  "language_info": {
   "codemirror_mode": {
    "name": "ipython",
    "version": 3
   },
   "file_extension": ".py",
   "mimetype": "text/x-python",
   "name": "python",
   "nbconvert_exporter": "python",
   "pygments_lexer": "ipython3",
   "version": "3.9.12"
  }
 },
 "nbformat": 4,
 "nbformat_minor": 5
}
